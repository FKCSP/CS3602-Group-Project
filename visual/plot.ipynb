{
 "cells": [
  {
   "cell_type": "code",
   "execution_count": null,
   "metadata": {},
   "outputs": [],
   "source": [
    "import matplotlib.pyplot as plt\n",
    "import seaborn as sns\n",
    "import numpy as np\n",
    "import pandas as pd\n",
    "from matplotlib.pyplot import MultipleLocator\n",
    "from scipy.io import loadmat,savemat\n",
    "from matplotlib.path import Path\n",
    "from matplotlib.patches import PathPatch"
   ]
  },
  {
   "cell_type": "code",
   "execution_count": null,
   "metadata": {},
   "outputs": [],
   "source": [
    "file = 'bert.txt'\n",
    "epoch = [i for i in range(1,101)]\n",
    "with open(file,'r') as f:\n",
    "    lines = f.readlines()\n",
    "    train_loss = [float(line[32:32+6]) for line in lines]\n",
    "    test_loss = [float(line[39:39+6]) for line in lines]\n",
    "    f.close()\n",
    "\n",
    "fig, ax = plt.subplots(nrows=1, ncols=1, figsize=(5,4))\n",
    "sns.set(style='whitegrid')\n",
    "\n",
    "ax.plot(epoch, train_loss, label='Train Loss', color='#F996AF', linestyle='-', marker='', linewidth=1.8, ms=10.0, alpha=1.0)\n",
    "ax.plot(epoch, test_loss,  label='Valid Loss', color='#be617b', linestyle='-', marker='', linewidth=1.8, ms=10.0, alpha=1.0)\n",
    "ax.tick_params(labelsize=18)\n",
    "plt.xlabel('Epoch', size=25)\n",
    "plt.ylabel('Loss', size = 25)\n",
    "plt.legend(loc='lower right', bbox_to_anchor=(0.98,0.65),fontsize=16)\n",
    "plt.tight_layout()\n",
    "plt.savefig('bert.pdf',bbox_inches='tight')\n",
    "plt.show()"
   ]
  },
  {
   "cell_type": "code",
   "execution_count": null,
   "metadata": {},
   "outputs": [],
   "source": [
    "file = 'bertacc.txt'\n",
    "epoch = [i for i in range(1,101)]\n",
    "with open(file,'r') as f:\n",
    "    lines = f.readlines()\n",
    "    acc = [float(line[32:32+5]) for line in lines]\n",
    "    f.close()\n",
    "\n",
    "fig, ax = plt.subplots(nrows=1, ncols=1, figsize=(5,4))\n",
    "sns.set(style='whitegrid')\n",
    "\n",
    "ax.plot(epoch, acc, label='Valid Acc', color='#be617b', linestyle='-', marker='', linewidth=1.5, ms=10.0, alpha=1.0)\n",
    "\n",
    "ax.tick_params(labelsize=18)\n",
    "plt.xlabel('Epoch', size=25)\n",
    "plt.ylabel('Accuracy', size=25)\n",
    "plt.legend(loc='lower right',fontsize=16)\n",
    "plt.tight_layout()\n",
    "plt.savefig('bertacc.pdf',bbox_inches='tight')\n",
    "plt.show()"
   ]
  },
  {
   "cell_type": "code",
   "execution_count": null,
   "metadata": {},
   "outputs": [],
   "source": [
    "fig, ax = plt.subplots(nrows=1, ncols=1, figsize=(6,3.5))\n",
    "sns.set(style='whitegrid')\n",
    "xticks = np.arange(4)\n",
    "\n",
    "base_y = [66.06, 68.99, 71.28, 70.11]\n",
    "base_yerr = [0.50, 0.84, 0.55, 0.54]\n",
    "\n",
    "his_y = [66.18, 68.96, 70.21, 69.58]\n",
    "his_yerr = [0.14, 0.78, 0.89, 0.76]\n",
    "\n",
    "color=['#d69992','#f7e0cd']\n",
    "color=['#e9b2a8','#dbebe3']\n",
    "width = 0.3\n",
    "ax.bar(x=['     Accuracy', '     Prediction', '     Recall', '     F-Score'], height=base_y, yerr=base_yerr, label='Baseline w/o history', alpha=1.0, width=width, color=color[0])\n",
    "ax.bar(x=xticks+width, height=his_y, yerr=his_yerr, label='Baseline w/ history', alpha=1.0, width=width, color=color[1])\n",
    "ax.set_ylim([30,80])\n",
    "ax.tick_params(labelsize=20)\n",
    "fig.legend(loc='lower center', bbox_to_anchor=(0.5,0.95), fancybox=True, fontsize=18, ncol=6)\n",
    "plt.tight_layout()\n",
    "plt.savefig('history.pdf',bbox_inches='tight')\n",
    "plt.show()"
   ]
  }
 ],
 "metadata": {
  "language_info": {
   "name": "python"
  },
  "orig_nbformat": 4
 },
 "nbformat": 4,
 "nbformat_minor": 2
}
